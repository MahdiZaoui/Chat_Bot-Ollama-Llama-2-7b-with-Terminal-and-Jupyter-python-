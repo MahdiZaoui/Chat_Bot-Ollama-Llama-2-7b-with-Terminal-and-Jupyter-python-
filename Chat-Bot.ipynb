{
 "cells": [
  {
   "cell_type": "code",
   "execution_count": 2,
   "metadata": {},
   "outputs": [
    {
     "name": "stdout",
     "output_type": "stream",
     "text": [
      "Ollama LLaMA Chatbot. Type 'exit' to quit.\n",
      "Processing...\n",
      "LLaMA: Hello! It's nice to meet you. How are you today?\n",
      "\u001b[?25l⠙ \u001b[?25h\u001b[?25l\u001b[2K\u001b[1G⠹ \u001b[?25h\u001b[?25l\u001b[2K\u001b[1G⠸ \u001b[?25h\u001b[?25l\u001b[2K\u001b[1G⠼ \u001b[?25h\u001b[?25l\u001b[2K\u001b[1G⠼ \u001b[?25h\u001b[?25l\u001b[2K\u001b[1G⠦ \u001b[?25h\u001b[?25l\u001b[2K\u001b[1G⠧ \u001b[?25h\u001b[?25l\u001b[2K\u001b[1G⠇ \u001b[?25h\u001b[?25l\u001b[2K\u001b[1G⠏ \u001b[?25h\u001b[?25l\u001b[2K\u001b[1G⠏ \u001b[?25h\u001b[?25l\u001b[2K\u001b[1G⠙ \u001b[?25h\u001b[?25l\u001b[2K\u001b[1G⠙ \u001b[?25h\u001b[?25l\u001b[?25l\u001b[2K\u001b[1G\u001b[?25h\u001b[2K\u001b[1G\u001b[?25h\u001b[?25l\u001b[?25h\u001b[?25l\u001b[?25h\u001b[?25l\u001b[?25h\u001b[?25l\u001b[?25h\u001b[?25l\u001b[?25h\u001b[?25l\u001b[?25h\u001b[?25l\u001b[?25h\u001b[?25l\u001b[?25h\u001b[?25l\u001b[?25h\u001b[?25l\u001b[?25h\u001b[?25l\u001b[?25h\u001b[?25l\u001b[?25h\u001b[?25l\u001b[?25h\u001b[?25l\u001b[?25h\u001b[?25l\u001b[?25h\u001b[?25l\u001b[?25h\n",
      "Processing...\n",
      "LLaMA: Hello! It's nice to meet you. Is there something I can help you with or would you like to chat?\n",
      "\u001b[?25l⠙ \u001b[?25h\u001b[?25l\u001b[2K\u001b[1G⠹ \u001b[?25h\u001b[?25l\u001b[?25l\u001b[2K\u001b[1G\u001b[?25h\u001b[2K\u001b[1G\u001b[?25h\u001b[?25l\u001b[?25h\u001b[?25l\u001b[?25h\u001b[?25l\u001b[?25h\u001b[?25l\u001b[?25h\u001b[?25l\u001b[?25h\u001b[?25l\u001b[?25h\u001b[?25l\u001b[?25h\u001b[?25l\u001b[?25h\u001b[?25l\u001b[?25h\u001b[?25l\u001b[?25h\u001b[?25l\u001b[?25h\u001b[?25l\u001b[?25h\u001b[?25l\u001b[?25h\u001b[?25l\u001b[?25h\u001b[?25l\u001b[?25h\u001b[?25l\u001b[?25h\u001b[?25l\u001b[?25h\u001b[?25l\u001b[?25h\u001b[?25l\u001b[?25h\u001b[?25l\u001b[?25h\u001b[?25l\u001b[?25h\u001b[?25l\u001b[?25h\u001b[?25l\u001b[?25h\u001b[?25l\u001b[?25h\u001b[?25l\u001b[?25h\u001b[?25l\u001b[?25h\n",
      "Goodbye!\n"
     ]
    }
   ],
   "source": [
    "import subprocess\n",
    "import sys\n",
    "import time\n",
    "import threading\n",
    "\n",
    "def start_ollama():\n",
    "    try:\n",
    "        process = subprocess.Popen(\n",
    "            [\"ollama\", \"run\", \"llama2\"],\n",
    "            stdin=subprocess.PIPE,\n",
    "            stdout=subprocess.PIPE,\n",
    "            stderr=subprocess.PIPE,\n",
    "            text=True,\n",
    "            encoding='utf-8'\n",
    "        )\n",
    "        return process\n",
    "    except Exception as e:\n",
    "        print(f\"Error starting Ollama process: {e}\")\n",
    "        sys.exit(1)\n",
    "\n",
    "def query_ollama(process, prompt):\n",
    "    if process.poll() is not None:\n",
    "        #print(\"Process has closed. Restarting...\")\n",
    "        process = start_ollama()\n",
    "\n",
    "    process.stdin.write(prompt + \"\\n\")\n",
    "    process.stdin.flush()\n",
    "\n",
    "    stdout, stderr = process.communicate()\n",
    "\n",
    "    response = stdout.strip() + '\\n' + (stderr.strip() if stderr else '')\n",
    "    \n",
    "    return response\n",
    "\n",
    "def show_processing_animation():\n",
    "    animation = [\"Processing\", \"Processing.\", \"Processing..\", \"Processing...\"]\n",
    "    while not processing_done[0]:\n",
    "        for frame in animation:\n",
    "            sys.stdout.write(f\"\\r{frame}\")\n",
    "            sys.stdout.flush()\n",
    "            time.sleep(0.5)\n",
    "\n",
    "if __name__ == \"__main__\":\n",
    "    print(\"Ollama LLaMA Chatbot. Type 'exit' to quit.\")\n",
    "    ollama_process = start_ollama()\n",
    "    \n",
    "    processing_done = [False]\n",
    "    \n",
    "    try:\n",
    "        while True:\n",
    "            user_input = input(\"You: \")\n",
    "            if user_input.lower() in [\"exit\", \"quit\"]:\n",
    "                print(\"Goodbye!\")\n",
    "                break\n",
    "            \n",
    "            processing_done[0] = False\n",
    "            animation_thread = threading.Thread(target=show_processing_animation)\n",
    "            animation_thread.start()\n",
    "            \n",
    "            response = query_ollama(ollama_process, user_input)\n",
    "            \n",
    "            processing_done[0] = True\n",
    "            animation_thread.join()\n",
    "\n",
    "            print(f\"\\nLLaMA: {response}\")\n",
    "    \n",
    "    finally:\n",
    "        ollama_process.terminate()\n"
   ]
  }
 ],
 "metadata": {
  "kernelspec": {
   "display_name": "Python 3",
   "language": "python",
   "name": "python3"
  },
  "language_info": {
   "codemirror_mode": {
    "name": "ipython",
    "version": 3
   },
   "file_extension": ".py",
   "mimetype": "text/x-python",
   "name": "python",
   "nbconvert_exporter": "python",
   "pygments_lexer": "ipython3",
   "version": "3.10.10"
  }
 },
 "nbformat": 4,
 "nbformat_minor": 2
}
